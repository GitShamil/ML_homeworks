{
  "cells": [
    {
      "cell_type": "markdown",
      "metadata": {
        "id": "view-in-github",
        "colab_type": "text"
      },
      "source": [
        "<a href=\"https://colab.research.google.com/github/GitShamil/ML_homeworks/blob/main/_hw02_pandas_ipynb.ipynb\" target=\"_parent\"><img src=\"https://colab.research.google.com/assets/colab-badge.svg\" alt=\"Open In Colab\"/></a>"
      ]
    },
    {
      "cell_type": "markdown",
      "metadata": {
        "_uuid": "21c25e4f8bb31570029fd6b069131a5d00f84cf1",
        "id": "0TyTto_lFcej"
      },
      "source": [
        "# Домашнее задание 2 (5 баллов).\n",
        "\n",
        "Все задания ниже имеют равный вес (5/16)."
      ]
    },
    {
      "cell_type": "code",
      "execution_count": null,
      "metadata": {
        "_uuid": "568eb2d31004b87d22e119112ae01a1e75105f1d",
        "id": "mtPnegdKFces"
      },
      "outputs": [],
      "source": [
        "import pandas as pd\n",
        "import numpy as np"
      ]
    },
    {
      "cell_type": "markdown",
      "metadata": {
        "id": "4S0kwwvcFcew"
      },
      "source": [
        "#### Описание данных\n",
        "\n",
        "В папке Data находится информация о студентах. Всего 10 групп студентов. Файлы делятся на две категории:\n",
        "    * Students_info_i - информация о студентах из группы i\n",
        "    * Students_marks_i - оценки студентов из группы i за экзамены"
      ]
    },
    {
      "cell_type": "markdown",
      "metadata": {
        "id": "ELbfiptiFcey"
      },
      "source": [
        "### Одно из важных достоинств pandas $-$ это удобные методы реляционного взаимодействия с данными, аналогичные, например, возможностям SQL для слияния и конкатенации таблиц: merge, join, concat. Наличие готовых методов позволяет не реализовывать самостоятельно поэлементную обработку данных и оперировать сразу целыми таблицами данных.\n",
        "\n",
        "Подробно об этих методах посмотрите тут: https://www.kaggle.com/residentmario/renaming-and-combining#Combining"
      ]
    },
    {
      "cell_type": "markdown",
      "metadata": {
        "id": "VhON1tmjFcez"
      },
      "source": [
        "#### Задание 1. Соберите всю информацию о студентах в одну таблицу df. В получившейся таблице должна быть информация и оценки всех студентов из всех групп. Напечатайте несколько строк таблицы для демонстрации результата.¶"
      ]
    },
    {
      "cell_type": "code",
      "execution_count": null,
      "metadata": {
        "id": "AoZO__U4Fce1",
        "colab": {
          "base_uri": "https://localhost:8080/"
        },
        "outputId": "0103f86b-7656-49e9-ceeb-033860908991"
      },
      "outputs": [
        {
          "output_type": "stream",
          "name": "stdout",
          "text": [
            "--2023-02-18 20:22:29--  https://github.com/shmihmih/iad-intro-ds/raw/master/2023/homeworks/Data.zip\n",
            "Resolving github.com (github.com)... 140.82.121.3\n",
            "Connecting to github.com (github.com)|140.82.121.3|:443... connected.\n",
            "HTTP request sent, awaiting response... 302 Found\n",
            "Location: https://raw.githubusercontent.com/shmihmih/iad-intro-ds/master/2023/homeworks/Data.zip [following]\n",
            "--2023-02-18 20:22:30--  https://raw.githubusercontent.com/shmihmih/iad-intro-ds/master/2023/homeworks/Data.zip\n",
            "Resolving raw.githubusercontent.com (raw.githubusercontent.com)... 185.199.108.133, 185.199.109.133, 185.199.110.133, ...\n",
            "Connecting to raw.githubusercontent.com (raw.githubusercontent.com)|185.199.108.133|:443... connected.\n",
            "HTTP request sent, awaiting response... 200 OK\n",
            "Length: 16727 (16K) [application/zip]\n",
            "Saving to: ‘Data.zip.2’\n",
            "\n",
            "\rData.zip.2            0%[                    ]       0  --.-KB/s               \rData.zip.2          100%[===================>]  16.33K  --.-KB/s    in 0s      \n",
            "\n",
            "2023-02-18 20:22:30 (61.3 MB/s) - ‘Data.zip.2’ saved [16727/16727]\n",
            "\n",
            "Archive:  Data.zip\n",
            "replace Data/Students_info_0.csv? [y]es, [n]o, [A]ll, [N]one, [r]ename: "
          ]
        }
      ],
      "source": [
        "!wget \"https://github.com/shmihmih/iad-intro-ds/raw/master/2023/homeworks/Data.zip\" \n",
        "!unzip \"Data.zip\""
      ]
    },
    {
      "cell_type": "code",
      "source": [
        "df = pd.DataFrame()\n",
        "\n",
        "for i in range(10):\n",
        "  x = pd.read_csv(f\"Data/Students_info_{i}.csv\")\n",
        "  y = pd.read_csv(f\"Data/Students_marks_{i}.csv\")\n",
        "  data = x.set_index(\"index\").join(y.set_index(\"index\"))\n",
        "  df = pd.concat([df, data],axis = 0)\n",
        "\n",
        "df.sample(5)"
      ],
      "metadata": {
        "id": "sHeO_RFW_SO9"
      },
      "execution_count": null,
      "outputs": []
    },
    {
      "cell_type": "markdown",
      "metadata": {
        "_uuid": "8524af4cbd2f7b7810e8a3095a74c9fe1df7eafa",
        "id": "eASO2uhtFce2"
      },
      "source": [
        "#### Задание 2. Удалите столбец index у полученной таблицы. Напечатайте первые 10 строк таблицы."
      ]
    },
    {
      "cell_type": "code",
      "execution_count": null,
      "metadata": {
        "_uuid": "fe62eee87b9b94ab923f57b55eaf0554612aa9e9",
        "id": "WCa8SndOFce4"
      },
      "outputs": [],
      "source": [
        "df.head(10)"
      ]
    },
    {
      "cell_type": "markdown",
      "metadata": {
        "_uuid": "5fcd622942b7ecfc318934c6a245d3bb3bf01e84",
        "id": "hMnXlNc6Fce5"
      },
      "source": [
        "#### Задание 3. Выведите на экран размеры полученной таблицы"
      ]
    },
    {
      "cell_type": "code",
      "execution_count": null,
      "metadata": {
        "_uuid": "16281cd7b4e941ebed8ca2e1b42f62f55d838684",
        "id": "zqrK02cOFce7"
      },
      "outputs": [],
      "source": [
        "df.shape"
      ]
    },
    {
      "cell_type": "markdown",
      "metadata": {
        "_uuid": "fe8e3d58d29ca25dbbcf001392377643e6ff9a36",
        "id": "T14D9ifBFce8"
      },
      "source": [
        "#### Задание 4. Выведите на экран статистические характеристики числовых столбцов таблицы (минимум, максимум, среднее значение, стандартное отклонение)"
      ]
    },
    {
      "cell_type": "code",
      "execution_count": null,
      "metadata": {
        "_uuid": "e3d4bb80d2c4251fe517c24fcf08c5ff2d67b8aa",
        "id": "qkerjFQ7Fce9"
      },
      "outputs": [],
      "source": [
        "df.describe()"
      ]
    },
    {
      "cell_type": "markdown",
      "metadata": {
        "_uuid": "b26b7de83485ecb3b8a0a7865a596e24527c7b2f",
        "id": "JkYGBf-vFce-"
      },
      "source": [
        "#### Задание 5. Проверьте, есть ли в таблице пропущенные значения"
      ]
    },
    {
      "cell_type": "code",
      "execution_count": null,
      "metadata": {
        "_uuid": "4eac3f8f83d07c6e58ad1576fe0e773f37034a2f",
        "id": "Vo6h4MVpFce-",
        "colab": {
          "base_uri": "https://localhost:8080/"
        },
        "outputId": "5a8b015b-8d81-47c4-f722-91544eec99cf"
      },
      "outputs": [
        {
          "data": {
            "text/plain": [
              "gender                         False\n",
              "race/ethnicity                 False\n",
              "parental level of education    False\n",
              "lunch                          False\n",
              "test preparation course        False\n",
              "group                          False\n",
              "math score                     False\n",
              "reading score                  False\n",
              "writing score                  False\n",
              "dtype: bool"
            ]
          },
          "execution_count": 77,
          "metadata": {},
          "output_type": "execute_result"
        }
      ],
      "source": [
        "df.isna().any(axis = 0)"
      ]
    },
    {
      "cell_type": "markdown",
      "metadata": {
        "id": "vxmIt4R0Fce_"
      },
      "source": [
        "#### Задание 6. Выведите на экран средние баллы студентов по каждому предмету (math, reading, writing)"
      ]
    },
    {
      "cell_type": "code",
      "execution_count": null,
      "metadata": {
        "id": "GFMwp8P9FcfA",
        "colab": {
          "base_uri": "https://localhost:8080/"
        },
        "outputId": "58da2b0c-ec0b-4021-8d51-f748374676f2"
      },
      "outputs": [
        {
          "output_type": "stream",
          "name": "stdout",
          "text": [
            "math score mean: 66.089\n",
            "reading score mean: 69.169\n",
            "writing score mean: 68.054\n"
          ]
        }
      ],
      "source": [
        "subjects = ['math score', 'reading score', 'writing score']\n",
        "\n",
        "for subject in subjects:\n",
        "  print(f\"{subject} mean: {df[subject].mean()}\")"
      ]
    },
    {
      "cell_type": "markdown",
      "metadata": {
        "id": "WsIBCwE_FcfB"
      },
      "source": [
        "**Задание 7. Как зависят оценки от того, проходил ли студент курс для подготовки к сдаче экзамена (test preparation course)? Выведите на экран для каждого предмета в отдельности средний балл студентов, проходивших курс для подготовки к экзамену и не проходивших курс.**"
      ]
    },
    {
      "cell_type": "code",
      "execution_count": null,
      "metadata": {
        "id": "v8Bj-2qFFcfC",
        "colab": {
          "base_uri": "https://localhost:8080/"
        },
        "outputId": "70dae2ff-99bc-4732-c024-da6cea833b9a"
      },
      "outputs": [
        {
          "output_type": "stream",
          "name": "stdout",
          "text": [
            "math score mean: 69.69553072625699\n",
            "reading score mean: 73.89385474860335\n",
            "writing score mean: 74.41899441340782\n"
          ]
        }
      ],
      "source": [
        "subjects = ['math score', 'reading score', 'writing score']\n",
        "\n",
        "for subject in subjects:\n",
        "  score = df[df[\"test preparation course\"] == 'completed'][subject].mean()\n",
        "  print(f\"{subject} mean: {score}\")"
      ]
    },
    {
      "cell_type": "markdown",
      "metadata": {
        "id": "MMrqBiegFcfC"
      },
      "source": [
        "**Задание 8. Выведите на экран все различные значения из столбца lunch.**"
      ]
    },
    {
      "cell_type": "code",
      "execution_count": null,
      "metadata": {
        "id": "WRfGc6MJFcfD",
        "colab": {
          "base_uri": "https://localhost:8080/"
        },
        "outputId": "de134747-18bc-417e-feab-cc8870a866e7"
      },
      "outputs": [
        {
          "output_type": "execute_result",
          "data": {
            "text/plain": [
              "array(['standard', 'free/reduced'], dtype=object)"
            ]
          },
          "metadata": {},
          "execution_count": 80
        }
      ],
      "source": [
        "df['lunch'].unique()"
      ]
    },
    {
      "cell_type": "markdown",
      "metadata": {
        "id": "Wi5oOXL9FcfD"
      },
      "source": [
        "**Задание 9. Переименуйте колонку \"parental level of education\" в \"education\", а \"test preparation course\" в \"test preparation\" с помощью метода pandas rename**\n",
        "https://pandas.pydata.org/pandas-docs/stable/reference/api/pandas.DataFrame.rename.html"
      ]
    },
    {
      "cell_type": "code",
      "execution_count": null,
      "metadata": {
        "id": "myFTtMvpFcfF"
      },
      "outputs": [],
      "source": [
        "change_name_dict = {\"parental level of education\" : \"education\", \"test preparation course\" : \"test preparation\"}\n",
        "df = df.rename(columns = change_name_dict)"
      ]
    },
    {
      "cell_type": "markdown",
      "metadata": {
        "id": "jt4fjk1lFcfG"
      },
      "source": [
        "**Зафиксируем минимальный балл для сдачи экзамена**"
      ]
    },
    {
      "cell_type": "code",
      "execution_count": null,
      "metadata": {
        "id": "RPgaCSP9FcfH"
      },
      "outputs": [],
      "source": [
        "passmark = 50"
      ]
    },
    {
      "cell_type": "markdown",
      "metadata": {
        "id": "gebQ1BHVFcfI"
      },
      "source": [
        "**Задание 10. Ответьте на вопросы:**\n",
        "    * Какая доля студентов сдала экзамен по математике (passmark >= 50)?\n",
        "    * Какая доля студентов, проходивших курс подготовки к экзамену, сдала экзамен по математике?\n",
        "    * Какая доля женщин, не проходивших курс подготовки к экзамену, не сдала экзамен по математике? "
      ]
    },
    {
      "cell_type": "code",
      "execution_count": null,
      "metadata": {
        "id": "-Asy7ieDFcfI",
        "colab": {
          "base_uri": "https://localhost:8080/"
        },
        "outputId": "455c4057-4010-48c0-d796-636fa4d6a8e1"
      },
      "outputs": [
        {
          "metadata": {
            "tags": null
          },
          "name": "stdout",
          "output_type": "stream",
          "text": [
            "Какая доля студентов сдала экзамен по математике (passmark >= 50)?\n",
            "доля: 0.865\n",
            "Какая доля студентов, проходивших курс подготовки к экзамену, сдала экзамен по математике?\n",
            "доля: 0.9217877094972067\n",
            "Какая доля женщин, не проходивших курс подготовки к экзамену, не сдала экзамен по математике?\n",
            "доля: 0.20958083832335328\n"
          ]
        }
      ],
      "source": [
        "print(\"Какая доля студентов сдала экзамен по математике (passmark >= 50)?\")\n",
        "print(f\"доля: {len(df[df['math score'] >= passmark])/ len(df)}\")\n",
        "print(\"Какая доля студентов, проходивших курс подготовки к экзамену, сдала экзамен по математике?\")\n",
        "print(f\"доля: {len(df[(df['math score'] >= passmark) &(df['test preparation'] == 'completed')] )/ len(df[df['test preparation'] == 'completed'] )}\")\n",
        "print(\"Какая доля женщин, не проходивших курс подготовки к экзамену, не сдала экзамен по математике?\")\n",
        "females = df[df['gender'] == 'female']\n",
        "females_without_prep = females[females['test preparation'] == 'none']\n",
        "print(f\"доля: {len(females_without_prep[females_without_prep['math score'] < passmark])/ len(females_without_prep)}\")"
      ]
    },
    {
      "cell_type": "markdown",
      "metadata": {
        "id": "10ZiEN_aFcfJ"
      },
      "source": [
        "**Задание 11. С помощью groupby выполните задания ниже. Также выведите время выполнения каждого из заданий.**\n",
        "    * Для каждой этнической группы выведите средний балл за экзамен по чтению\n",
        "    * Для каждого уровня образования выведите минимальный балл за экзамен по письму"
      ]
    },
    {
      "cell_type": "code",
      "execution_count": null,
      "metadata": {
        "id": "NfsJXOCKFcfJ",
        "colab": {
          "base_uri": "https://localhost:8080/"
        },
        "outputId": "ee40088a-12b0-41d3-9509-a352134699c9"
      },
      "outputs": [
        {
          "output_type": "stream",
          "name": "stdout",
          "text": [
            "CPU times: user 1.81 ms, sys: 0 ns, total: 1.81 ms\n",
            "Wall time: 1.82 ms\n"
          ]
        },
        {
          "output_type": "execute_result",
          "data": {
            "text/plain": [
              "race/ethnicity\n",
              "group A    64.674157\n",
              "group B    67.352632\n",
              "group C    69.103448\n",
              "group D    70.030534\n",
              "group E    73.028571\n",
              "Name: reading score, dtype: float64"
            ]
          },
          "metadata": {},
          "execution_count": 84
        }
      ],
      "source": [
        "%%time\n",
        "df.groupby('race/ethnicity')['reading score'].mean()"
      ]
    },
    {
      "cell_type": "code",
      "source": [
        "%%time\n",
        "df.groupby('education')['writing score'].min()"
      ],
      "metadata": {
        "id": "79EtCFyBE-ql",
        "colab": {
          "base_uri": "https://localhost:8080/"
        },
        "outputId": "df6b5823-6b0e-4cfc-abf2-8982e4c0e5c8"
      },
      "execution_count": null,
      "outputs": [
        {
          "output_type": "stream",
          "name": "stdout",
          "text": [
            "CPU times: user 2.89 ms, sys: 0 ns, total: 2.89 ms\n",
            "Wall time: 2.93 ms\n"
          ]
        },
        {
          "output_type": "execute_result",
          "data": {
            "text/plain": [
              "education\n",
              "associate's degree    35\n",
              "bachelor's degree     38\n",
              "high school           15\n",
              "master's degree       46\n",
              "some college          19\n",
              "some high school      10\n",
              "Name: writing score, dtype: int64"
            ]
          },
          "metadata": {},
          "execution_count": 85
        }
      ]
    },
    {
      "cell_type": "markdown",
      "metadata": {
        "id": "_7SzXan1FcfJ"
      },
      "source": [
        "**Задание 12. Выполните задание 11 с помощью циклов. Сравните время выполнения.**"
      ]
    },
    {
      "cell_type": "code",
      "execution_count": null,
      "metadata": {
        "id": "zJD5ThZ_FcfK",
        "colab": {
          "base_uri": "https://localhost:8080/"
        },
        "outputId": "671b08b5-2d66-4277-ca95-448f33aedced"
      },
      "outputs": [
        {
          "output_type": "stream",
          "name": "stdout",
          "text": [
            "group B mean: 67.35263157894737\n",
            "group C mean: 69.10344827586206\n",
            "group A mean: 64.67415730337079\n",
            "group D mean: 70.03053435114504\n",
            "group E mean: 73.02857142857142\n",
            "CPU times: user 31.9 ms, sys: 0 ns, total: 31.9 ms\n",
            "Wall time: 35.5 ms\n"
          ]
        }
      ],
      "source": [
        "%%time\n",
        "groups_dict = {}\n",
        "for group in df['race/ethnicity'].unique():\n",
        "  groups_dict[group] = [0,0]\n",
        "for i in range(len(df)):\n",
        "  group = df.loc[i,'race/ethnicity']\n",
        "  score = df.loc[i,'reading score']\n",
        "  groups_dict[group][0] += score\n",
        "  groups_dict[group][1] += 1\n",
        "for group, item in groups_dict.items():\n",
        "  print(f\"{group} mean: {item[0]/item[1]}\")"
      ]
    },
    {
      "cell_type": "code",
      "source": [
        "%%time\n",
        "groups_dict = {}\n",
        "for group in df['education'].unique():\n",
        "  groups_dict[group] = 100\n",
        "for i in range(len(df)):\n",
        "  group = df.loc[i,'education']\n",
        "  score = df.loc[i,'writing score']\n",
        "  groups_dict[group] = min(score,groups_dict[group])\n",
        "for group, item in groups_dict.items():\n",
        "  print(f\"{group} min: {item}\")"
      ],
      "metadata": {
        "id": "Yst9jVlhGajv",
        "colab": {
          "base_uri": "https://localhost:8080/"
        },
        "outputId": "3f7b92e4-df82-48db-fcfb-27a79bc3f3f4"
      },
      "execution_count": null,
      "outputs": [
        {
          "output_type": "stream",
          "name": "stdout",
          "text": [
            "bachelor's degree min: 38\n",
            "some college min: 19\n",
            "master's degree min: 46\n",
            "associate's degree min: 35\n",
            "high school min: 15\n",
            "some high school min: 10\n",
            "CPU times: user 33.1 ms, sys: 0 ns, total: 33.1 ms\n",
            "Wall time: 35.3 ms\n"
          ]
        }
      ]
    },
    {
      "cell_type": "markdown",
      "source": [
        "Видно что встроенные функции быстрее"
      ],
      "metadata": {
        "id": "1pTo6Ti1GzH8"
      }
    },
    {
      "cell_type": "markdown",
      "metadata": {
        "id": "RN03UuCKFcfK"
      },
      "source": [
        "**Задание 13. Выведите на экран средние баллы студентов по каждому предмету в зависимости от пола и уровня образования. То есть должно получиться количество групп, равных 2 * (число уровней образования), и для каждой такой группы выыведите средний балл по каждому из предметов.**\n",
        "\n",
        "Это можно сделать с помощью сводных таблиц (pivot_table):\n",
        "\n",
        "https://www.kaggle.com/kamilpolak/tutorial-how-to-use-pivot-table-in-pandas"
      ]
    },
    {
      "cell_type": "code",
      "execution_count": null,
      "metadata": {
        "id": "hiPb8EuiFcfL",
        "colab": {
          "base_uri": "https://localhost:8080/"
        },
        "outputId": "bbba3044-d2f5-47c5-b167-ead05da688ee"
      },
      "outputs": [
        {
          "metadata": {
            "tags": null
          },
          "name": "stdout",
          "output_type": "stream",
          "text": [
            "gender  education         \n",
            "female  associate's degree    65.250000\n",
            "        bachelor's degree     68.349206\n",
            "        high school           59.351064\n",
            "        master's degree       66.500000\n",
            "        some college          65.406780\n",
            "        some high school      59.296703\n",
            "male    associate's degree    70.764151\n",
            "        bachelor's degree     70.581818\n",
            "        high school           64.705882\n",
            "        master's degree       74.826087\n",
            "        some college          69.009259\n",
            "        some high school      67.840909\n",
            "Name: math score, dtype: float64\n",
            "gender  education         \n",
            "female  associate's degree    74.120690\n",
            "        bachelor's degree     77.285714\n",
            "        high school           68.202128\n",
            "        master's degree       76.805556\n",
            "        some college          73.550847\n",
            "        some high school      69.109890\n",
            "male    associate's degree    67.433962\n",
            "        bachelor's degree     68.090909\n",
            "        high school           61.480392\n",
            "        master's degree       73.130435\n",
            "        some college          64.990741\n",
            "        some high school      64.693182\n",
            "Name: reading score, dtype: float64\n",
            "gender  education         \n",
            "female  associate's degree    74.000000\n",
            "        bachelor's degree     78.380952\n",
            "        high school           66.691489\n",
            "        master's degree       77.638889\n",
            "        some college          74.050847\n",
            "        some high school      68.285714\n",
            "male    associate's degree    65.405660\n",
            "        bachelor's degree     67.654545\n",
            "        high school           58.539216\n",
            "        master's degree       72.608696\n",
            "        some college          63.148148\n",
            "        some high school      61.375000\n",
            "Name: writing score, dtype: float64\n"
          ]
        }
      ],
      "source": [
        "for subject in subjects:\n",
        "  print(df.groupby(['gender','education'])[subject].mean())"
      ]
    },
    {
      "cell_type": "markdown",
      "metadata": {
        "_uuid": "3e832cb427c4314582d1953a41b8c78db75e30e3",
        "id": "qOyPJRuGFcfL"
      },
      "source": [
        "#### Задание 14. Сколько студентов успешно сдали экзамен по математике?\n",
        "\n",
        "Создайте новый столбец в таблице df под названием Math_PassStatus и запишите в него F, если студент не сдал экзамен по математике (балл за экзамен < passmark), и P иначе.\n",
        "\n",
        "Посчитайте количество студентов, сдавших и не сдавших экзамен по математике.\n",
        "\n",
        "Сделайте аналогичные шаги для экзаменов по чтению и письму."
      ]
    },
    {
      "cell_type": "code",
      "execution_count": null,
      "metadata": {
        "_uuid": "f43cddb72cc96b30df84bc0de83a4d9170904340",
        "id": "g3ecTzbWFcfM",
        "colab": {
          "base_uri": "https://localhost:8080/"
        },
        "outputId": "7e2e0d84-e2e1-4e17-f0a3-1baf5ed17612"
      },
      "outputs": [
        {
          "output_type": "stream",
          "name": "stdout",
          "text": [
            "Студентов сдавших матешу: 865\n"
          ]
        }
      ],
      "source": [
        "def func(x, subject):\n",
        "  if (x[subject] < passmark):\n",
        "    return \"F\"\n",
        "  return \"P\"\n",
        "\n",
        "for subject in subjects:\n",
        "  df[subject + \"Status\"] = df.apply(lambda x: func(x,subject),axis = 1)\n",
        "print(f\"Студентов сдавших матешу: {len(df[df['math scoreStatus'] == 'P'])}\")"
      ]
    },
    {
      "cell_type": "markdown",
      "metadata": {
        "_uuid": "b753c90914ee65501e2ed263ea614d88a381c472",
        "id": "gn4IdryoFcfM"
      },
      "source": [
        "#### Задание 15. Сколько студентов успешно сдали все экзамены?\n",
        "\n",
        "Создайте столбец OverAll_PassStatus и запишите в него для каждого студента 'F', если студент не сдал хотя бы один из трех экзаменов, а иначе 'P'.\n",
        "\n",
        "Посчитайте количество студентов, которые сдали все экзамены."
      ]
    },
    {
      "cell_type": "code",
      "execution_count": null,
      "metadata": {
        "_uuid": "e98f895a022b967cab801447b616222439fe9d84",
        "id": "xmRRdxjlFcfM",
        "colab": {
          "base_uri": "https://localhost:8080/"
        },
        "outputId": "70dbf747-8b24-441b-be22-ac4a63d52485"
      },
      "outputs": [
        {
          "output_type": "stream",
          "name": "stdout",
          "text": [
            "Студентов сдавших все: 812\n"
          ]
        }
      ],
      "source": [
        "def func(x):\n",
        "  for subject in subjects:    \n",
        "    if (x[subject] < passmark):\n",
        "      return \"F\"\n",
        "  return \"P\"\n",
        "\n",
        "df['OverAll_PassStatus'] = df.apply(func,axis = 1)\n",
        "print(f\"Студентов сдавших все: {len(df[df['OverAll_PassStatus'] == 'P'])}\")"
      ]
    },
    {
      "cell_type": "markdown",
      "metadata": {
        "_uuid": "3af9c6cb4cbfff66d4ae09509f10b8b6ce33075d",
        "id": "18aADhxcFcfN"
      },
      "source": [
        "#### Задание 16. Переведем баллы в оценки\n",
        "\n",
        "### Система перевода баллов в оценки\n",
        "####    больше 90 = A\n",
        "####      80-90 = B\n",
        "####      70-80 = C\n",
        "####      60-70 = D\n",
        "####      50-60 = E\n",
        "####    меньше 50 = F (Fail)\n",
        "\n",
        "Создайте вспомогательную функцию, которая будет по среднему баллу за три экзамена выставлять оценку студенту по данным выше критериям.\n",
        "\n",
        "Создайте столбец Grade и запишите в него оценку каждого студента.\n",
        "\n",
        "Выведите количество студентов, получивших каждую из оценок.\n",
        "\n",
        "**В случае, если средний балл попадает на границу между оценками (т.е. равен ровно 60, 70 или 80 баллов), вы можете интерпретировать условие на своё усмотрение (т.е. можете поставить за 60 баллов оценку D, а можете - E).**"
      ]
    },
    {
      "cell_type": "code",
      "execution_count": null,
      "metadata": {
        "_uuid": "04707c5be4237020b906d2ac705a0db3d620506f",
        "id": "C-FrVH65FcfO"
      },
      "outputs": [],
      "source": [
        "boundres_grades = [[0,50,'F'],[50,60,'E'],[60,70,'D'],[70,80,'C'],[80,90,'B'],[90,101,'A']]\n",
        "\n",
        "def GetGrade(average_mark):\n",
        "  for grade in boundres_grades:\n",
        "    if (average_mark >= grade[0] and average_mark < grade[1]):\n",
        "      return grade[2]\n",
        "\n",
        "df['Grades'] = df.apply(lambda x: GetGrade(np.mean([x['math score'], x['reading score'], x['writing score']])), axis = 1)\n"
      ]
    },
    {
      "cell_type": "markdown",
      "source": [
        "df"
      ],
      "metadata": {
        "id": "NZPrYENKKKUz"
      }
    },
    {
      "cell_type": "code",
      "source": [],
      "metadata": {
        "id": "M1GMfM0RLguz"
      },
      "execution_count": null,
      "outputs": []
    }
  ],
  "metadata": {
    "kernelspec": {
      "display_name": "Python 3 (ipykernel)",
      "language": "python",
      "name": "python3"
    },
    "language_info": {
      "codemirror_mode": {
        "name": "ipython",
        "version": 3
      },
      "file_extension": ".py",
      "mimetype": "text/x-python",
      "name": "python",
      "nbconvert_exporter": "python",
      "pygments_lexer": "ipython3",
      "version": "3.7.9"
    },
    "colab": {
      "provenance": [],
      "include_colab_link": true
    }
  },
  "nbformat": 4,
  "nbformat_minor": 0
}